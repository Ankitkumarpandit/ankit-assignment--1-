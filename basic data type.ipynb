{
 "cells": [
  {
   "cell_type": "code",
   "execution_count": 6,
   "id": "707bba89-2691-4437-9832-4f5b7849f40a",
   "metadata": {},
   "outputs": [
    {
     "name": "stdout",
     "output_type": "stream",
     "text": [
      "After swapping: x= 4 y=  6\n"
     ]
    }
   ],
   "source": [
    "''' Declare two variables, `x` and `y`, and assign them integer values. Swap the\n",
    "values of these variables without using any temporary variable.'''\n",
    "x = 6\n",
    "y = 4\n",
    "x = x + y\n",
    "y = x - y\n",
    "x = x - y\n",
    "print (\"After swapping: x=\", x, \"y= \", y)"
   ]
  },
  {
   "cell_type": "code",
   "execution_count": 4,
   "id": "ab2ba492-d02e-452d-9e9f-311a3fa3f062",
   "metadata": {},
   "outputs": [
    {
     "name": "stdin",
     "output_type": "stream",
     "text": [
      "enter the length: 9\n",
      "enter the width: 5\n"
     ]
    },
    {
     "name": "stdout",
     "output_type": "stream",
     "text": [
      "area is: 45\n"
     ]
    }
   ],
   "source": [
    "'''Create a program that calculates the area of a rectangle. Take the length and\n",
    "width as inputs from the user and store them in variables. Calculate and\n",
    "display the area.'''\n",
    "length = int( input(\"enter the length:\"))\n",
    "width =  int(input(\"enter the width:\"))\n",
    "area = length * width\n",
    "print(\"area is:\", area)"
   ]
  },
  {
   "cell_type": "code",
   "execution_count": 6,
   "id": "7ac59d68-24dd-492d-9097-266f484c0cdc",
   "metadata": {},
   "outputs": [
    {
     "name": "stdin",
     "output_type": "stream",
     "text": [
      "enter celcius temperature: 54\n"
     ]
    },
    {
     "name": "stdout",
     "output_type": "stream",
     "text": [
      "feranhite temperature: 129.2\n"
     ]
    }
   ],
   "source": [
    "'''Write a Python program that converts temperatures from Celsius to\n",
    "Fahrenheit. Take the temperature in Celsius as input, store it in a variable,\n",
    "convert it to Fahrenheit, and display the result.'''\n",
    "celcius = int(input(\"enter celcius temperature:\"))\n",
    "ferenhite = ( celcius*9/5)+32\n",
    "print(\"feranhite temperature:\", ferenhite)              \n",
    "              "
   ]
  },
  {
   "cell_type": "code",
   "execution_count": 7,
   "id": "c2e0d9ed-9fef-489d-872a-5cc55b8c36d3",
   "metadata": {},
   "outputs": [
    {
     "name": "stdin",
     "output_type": "stream",
     "text": [
      "enter the string: he is a boy\n"
     ]
    },
    {
     "name": "stdout",
     "output_type": "stream",
     "text": [
      "length of string: 11\n"
     ]
    }
   ],
   "source": [
    "'''Write a Python program that takes a string as input and prints the length of\n",
    "the string.'''\n",
    "string = input(\"enter the string:\")\n",
    "length = len(string)\n",
    "print(\"length of string:\", length)"
   ]
  },
  {
   "cell_type": "code",
   "execution_count": 10,
   "id": "60d7af11-9e35-4c93-a39c-dc09304788ee",
   "metadata": {},
   "outputs": [
    {
     "name": "stdin",
     "output_type": "stream",
     "text": [
      "enter the statement: he is going to school\n"
     ]
    },
    {
     "name": "stdout",
     "output_type": "stream",
     "text": [
      "no of vowels: 1\n",
      "no of vowels: 2\n",
      "no of vowels: 3\n",
      "no of vowels: 4\n",
      "no of vowels: 5\n",
      "no of vowels: 6\n",
      "no of vowels: 7\n"
     ]
    }
   ],
   "source": [
    "'''Create a program that takes a sentence from the user and counts the number\n",
    "of vowels (a, e, i, o, u) in the string.'''\n",
    "sentence = input(\"enter the statement:\")\n",
    "vowelcount = 0\n",
    "for character in sentence:\n",
    "    if character in \"aeiou\":\n",
    "        vowelcount+=1\n",
    "        print(\"no of vowels:\", vowelcount)"
   ]
  },
  {
   "cell_type": "code",
   "execution_count": 12,
   "id": "703746fe-43f3-4355-952a-6454b9e9bbc5",
   "metadata": {},
   "outputs": [
    {
     "name": "stdout",
     "output_type": "stream",
     "text": [
      "reversed1: retcarahc\n"
     ]
    }
   ],
   "source": [
    "'''Given a string, reverse the order of characters using string slicing and print\n",
    "the reversed string.'''\n",
    "string1 = (\"character\")\n",
    "reversed1 = string1[::-1]\n",
    "print(\"reversed1:\",reversed1)"
   ]
  },
  {
   "cell_type": "code",
   "execution_count": 17,
   "id": "f99bf94a-35b8-4f76-893b-fb2e5eb2afc5",
   "metadata": {},
   "outputs": [
    {
     "name": "stdin",
     "output_type": "stream",
     "text": [
      "enter the word: ankiy\n"
     ]
    },
    {
     "name": "stdout",
     "output_type": "stream",
     "text": [
      "it is not palindrome.\n"
     ]
    }
   ],
   "source": [
    "''' Write a program that takes a string as input and checks if it is a palindrome\n",
    "(reads the same forwards and backwards).'''\n",
    "string2 = input(\"enter the word:\")\n",
    "if string2 == string2[::-1]:\n",
    "    print(\"it is palindrome.\")\n",
    "else:\n",
    "    print(\"it is not palindrome.\")"
   ]
  },
  {
   "cell_type": "code",
   "execution_count": 18,
   "id": "029cd1d4-01fa-4aa9-b47c-b8e31e49857b",
   "metadata": {},
   "outputs": [
    {
     "name": "stdin",
     "output_type": "stream",
     "text": [
      "enter the word: malayalam\n"
     ]
    },
    {
     "name": "stdout",
     "output_type": "stream",
     "text": [
      "it is palindrome.\n"
     ]
    }
   ],
   "source": [
    "''' Write a program that takes a string as input and checks if it is a palindrome\n",
    "(reads the same forwards and backwards).'''\n",
    "string2 = input(\"enter the word:\")\n",
    "if string2 == string2[::-1]:\n",
    "    print(\"it is palindrome.\")\n",
    "else:    \n",
    "    print(\"it is not palindrome.\")"
   ]
  },
  {
   "cell_type": "code",
   "execution_count": 20,
   "id": "719b1b23-43c1-452c-9c2f-f3c3705d97f1",
   "metadata": {},
   "outputs": [
    {
     "name": "stdin",
     "output_type": "stream",
     "text": [
      "enter the statement: he loves eating food\n"
     ]
    },
    {
     "name": "stdout",
     "output_type": "stream",
     "text": [
      "modified: heloveseatingfood\n"
     ]
    }
   ],
   "source": [
    "'''Create a program that takes a string as input and removes all the spaces from\n",
    "it. Print the modified string without spaces.'''\n",
    "string3 = input(\"enter the statement:\")\n",
    "modified = string3.replace(\" \",\"\")\n",
    "print(\"modified:\", modified)"
   ]
  },
  {
   "cell_type": "code",
   "execution_count": null,
   "id": "652bfdb3-b8a9-4271-94c0-7a50e1f855c8",
   "metadata": {},
   "outputs": [],
   "source": []
  },
  {
   "cell_type": "code",
   "execution_count": null,
   "id": "27d22ea0-4ce0-4fcc-8373-58c7cf107ae4",
   "metadata": {},
   "outputs": [],
   "source": []
  },
  {
   "cell_type": "code",
   "execution_count": null,
   "id": "5367b9b7-b2a3-4776-a13c-472e03522578",
   "metadata": {},
   "outputs": [],
   "source": []
  }
 ],
 "metadata": {
  "kernelspec": {
   "display_name": "Python 3 (ipykernel)",
   "language": "python",
   "name": "python3"
  },
  "language_info": {
   "codemirror_mode": {
    "name": "ipython",
    "version": 3
   },
   "file_extension": ".py",
   "mimetype": "text/x-python",
   "name": "python",
   "nbconvert_exporter": "python",
   "pygments_lexer": "ipython3",
   "version": "3.10.8"
  }
 },
 "nbformat": 4,
 "nbformat_minor": 5
}
